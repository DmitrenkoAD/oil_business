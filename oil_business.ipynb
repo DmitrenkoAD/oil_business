{
 "cells": [
  {
   "cell_type": "markdown",
   "id": "dc89239f-65ae-4a57-8ba5-f01022416356",
   "metadata": {},
   "source": [
    "# Выбор локации для скважины"
   ]
  },
  {
   "cell_type": "markdown",
   "id": "d0ab91da-113c-4a6e-b9d3-569a197b26dd",
   "metadata": {},
   "source": [
    "## Описание проекта"
   ]
  },
  {
   "cell_type": "markdown",
   "id": "deff0a66-c04d-4a3d-a9ca-9a3380c88997",
   "metadata": {},
   "source": [
    " - Компания \"ГлавГосРосНефть\" занимается добычей нефти. Необходимо решить, где бурить скважину\n",
    " - Для поиска скважины следует использовать следующий план:\n",
    "    + В избранном регионе необходимо собрать информацию о характеристиках скважин: качество нефти и объём её запасов;\n",
    "    + Построить модель для предсказания объёма запасов в новых скважинах;\n",
    "    + Выбрать скважины с самыми высокими оценками значений;\n",
    "    + Определить регион с максимальной суммарной прибылью отобранных скважин."
   ]
  },
  {
   "cell_type": "markdown",
   "id": "d865e000-4f73-408f-a1db-beabb24d59fa",
   "metadata": {},
   "source": [
    "## Цели"
   ]
  },
  {
   "cell_type": "markdown",
   "id": "bfe22f51-0de2-49e3-876f-a85ac8fdbd98",
   "metadata": {},
   "source": [
    "- Определить регион, добыча нефти в котором принесёт наибольшую прибыль"
   ]
  },
  {
   "cell_type": "markdown",
   "id": "24fbb686-ae0c-44ca-9271-afecde984010",
   "metadata": {},
   "source": [
    "## Задачи"
   ]
  },
  {
   "cell_type": "markdown",
   "id": "61e75b1e-a890-463c-9bf7-2229e6fbb71c",
   "metadata": {},
   "source": [
    "- Построить модель под указанную цель\n",
    "- Проанализировать возможную прибыль и риски техникой Bootstrap"
   ]
  },
  {
   "cell_type": "markdown",
   "id": "f249adbd-56ac-43e6-8b65-981f6017c45b",
   "metadata": {},
   "source": [
    "## Описание данных"
   ]
  },
  {
   "cell_type": "markdown",
   "id": "fb306993-54f0-4762-be44-228e593c1b70",
   "metadata": {},
   "source": [
    "- Дано три датасета, которые содержат информацию о характеристиках скважин в соответствующих регионах. Их структура одинаковая:\n",
    "    + `id` — уникальный идентификатор скважины;\n",
    "    + `f0, f1, f2` — три признака точек (неважно, что они означают, но сами признаки значимы);\n",
    "    + `product` — объём запасов в скважине (тыс. баррелей)."
   ]
  },
  {
   "cell_type": "markdown",
   "id": "c7fb9a30-568f-46bf-9079-9703eaa6334e",
   "metadata": {},
   "source": [
    "## План работы\n",
    "    1. Загрузить и подготовить данные;\n",
    "    2. Обучить и проверить модель для каждого региона;\n",
    "    3. Провести подготовку данных для расчёта прибыли;\n",
    "    4. Написать функцию для расчёта прибыли по выбранным скважинам и предсказаниям модели;\n",
    "    5. Посчитать риски и прибыль для каждого региона;"
   ]
  },
  {
   "cell_type": "markdown",
   "id": "94fc6893-6afd-455a-a1eb-589304c47c12",
   "metadata": {},
   "source": [
    "## Условия задачи\n",
    "- Для обучения модели подходит только линейная регрессия (остальные — недостаточно предсказуемые)\n",
    "- При разведке региона исследуют 500 точек, из которых с помощью машинного обучения выбирают 200 лучших для разработки\n",
    "- Бюджет на разработку скважин в регионе — 10 млрд рублей\n",
    "- При нынешних ценах один баррель сырья приносит 450 рублей дохода. Доход с каждой единицы продукта составляет 450 тыс. рублей, поскольку объём указан в тысячах баррелей\n",
    "- После оценки рисков нужно оставить лишь те регионы, в которых вероятность убытков меньше 2.5%. Среди них выбирают регион с наибольшей средней прибылью"
   ]
  },
  {
   "cell_type": "markdown",
   "id": "020a3c5a-71cb-4527-a0a0-0c4a182068d2",
   "metadata": {},
   "source": [
    "# Шаг 1. Загрузка и подготовка данных"
   ]
  },
  {
   "cell_type": "markdown",
   "id": "571e0719-64a8-412a-a4d6-4a6b06cc3a13",
   "metadata": {},
   "source": [
    "- Загрузка нужных версий библиотек"
   ]
  },
  {
   "cell_type": "code",
   "execution_count": 1,
   "id": "2cbee12f-df9a-4f31-8ef0-0906dacdcaac",
   "metadata": {
    "scrolled": true
   },
   "outputs": [
    {
     "name": "stderr",
     "output_type": "stream",
     "text": [
      "\n",
      "[notice] A new release of pip is available: 24.0 -> 24.2\n",
      "[notice] To update, run: python.exe -m pip install --upgrade pip\n",
      "\n",
      "[notice] A new release of pip is available: 24.0 -> 24.2\n",
      "[notice] To update, run: python.exe -m pip install --upgrade pip\n",
      "\n",
      "[notice] A new release of pip is available: 24.0 -> 24.2\n",
      "[notice] To update, run: python.exe -m pip install --upgrade pip\n",
      "\n",
      "[notice] A new release of pip is available: 24.0 -> 24.2\n",
      "[notice] To update, run: python.exe -m pip install --upgrade pip\n",
      "\n",
      "[notice] A new release of pip is available: 24.0 -> 24.2\n",
      "[notice] To update, run: python.exe -m pip install --upgrade pip\n",
      "\n",
      "[notice] A new release of pip is available: 24.0 -> 24.2\n",
      "[notice] To update, run: python.exe -m pip install --upgrade pip\n"
     ]
    }
   ],
   "source": [
    "!pip install -q scikit-learn\n",
    "!pip install -q shap\n",
    "!pip install -q matplotlib\n",
    "!pip install -q seaborn\n",
    "!pip install -q phik\n",
    "!pip install -q yellowbrick"
   ]
  },
  {
   "cell_type": "markdown",
   "id": "0563e59b-bac0-4202-99f8-883bd76b6c70",
   "metadata": {},
   "source": [
    "- Загрузка инструментов"
   ]
  },
  {
   "cell_type": "code",
   "execution_count": 2,
   "id": "0cb77ada-d5ce-412d-8d87-b132d15799e3",
   "metadata": {},
   "outputs": [],
   "source": [
    "# Библиотеки\n",
    "import pandas as pd\n",
    "import seaborn as sns\n",
    "import scipy.stats as st\n",
    "import matplotlib.pyplot as plt\n",
    "import numpy as np\n",
    "import sklearn # версия 1.4.1.post1\n",
    "import phik\n",
    "import shap\n",
    "#Инструменты из библиотек\n",
    "from sklearn.model_selection import train_test_split, RandomizedSearchCV\n",
    "from sklearn.preprocessing import (StandardScaler, OneHotEncoder, OrdinalEncoder, MinMaxScaler, RobustScaler, LabelEncoder)\n",
    "from sklearn.linear_model import (LogisticRegression, LinearRegression)\n",
    "from sklearn.neighbors import KNeighborsClassifier\n",
    "from yellowbrick.model_selection import FeatureImportances\n",
    "from sklearn.inspection import permutation_importance\n",
    "from phik import phik_matrix\n",
    "from sklearn.pipeline import Pipeline\n",
    "from sklearn.compose import ColumnTransformer\n",
    "from sklearn.impute import SimpleImputer\n",
    "from sklearn.tree import DecisionTreeClassifier, DecisionTreeRegressor\n",
    "from sklearn.svm import SVC\n",
    "from sklearn import linear_model\n",
    "from sklearn.metrics import (r2_score,\n",
    "                             roc_auc_score,\n",
    "                             confusion_matrix,\n",
    "                             mean_squared_error,\n",
    "                             root_mean_squared_error,\n",
    "                             mean_absolute_error,\n",
    "                             precision_score,\n",
    "                             accuracy_score,\n",
    "                             recall_score,\n",
    "                             make_scorer\n",
    "                            )"
   ]
  },
  {
   "cell_type": "markdown",
   "id": "f8a220d9-4999-4b96-9ad4-aef8f8ca8045",
   "metadata": {},
   "source": [
    "## 1.1 Загрузка данных"
   ]
  },
  {
   "cell_type": "markdown",
   "id": "6fba8f6a-234d-407a-9000-4101f036b1b8",
   "metadata": {},
   "source": [
    "- Загрузим данные из датасетов и посмотрим их структуру"
   ]
  },
  {
   "cell_type": "code",
   "execution_count": 3,
   "id": "526bc3ff-ad50-442f-991c-bcbadb5df08b",
   "metadata": {},
   "outputs": [],
   "source": [
    "df_region_1 = pd.read_csv('https://code.s3.yandex.net/datasets/geo_data_0.csv', sep = ',')\n",
    "df_region_2 = pd.read_csv('https://code.s3.yandex.net/datasets/geo_data_1.csv', sep = ',')\n",
    "df_region_3 = pd.read_csv('https://code.s3.yandex.net/datasets/geo_data_2.csv', sep = ',')"
   ]
  },
  {
   "cell_type": "code",
   "execution_count": 4,
   "id": "38a48387-f1d6-43bd-a795-2dcd5ee9663a",
   "metadata": {},
   "outputs": [],
   "source": [
    "df_region_set = [df_region_1, df_region_2, df_region_3]"
   ]
  },
  {
   "cell_type": "code",
   "execution_count": 5,
   "id": "27b0c7b3-0378-4c86-807c-bce5e3a8c7d5",
   "metadata": {},
   "outputs": [
    {
     "data": {
      "text/html": [
       "<div>\n",
       "<style scoped>\n",
       "    .dataframe tbody tr th:only-of-type {\n",
       "        vertical-align: middle;\n",
       "    }\n",
       "\n",
       "    .dataframe tbody tr th {\n",
       "        vertical-align: top;\n",
       "    }\n",
       "\n",
       "    .dataframe thead th {\n",
       "        text-align: right;\n",
       "    }\n",
       "</style>\n",
       "<table border=\"1\" class=\"dataframe\">\n",
       "  <thead>\n",
       "    <tr style=\"text-align: right;\">\n",
       "      <th></th>\n",
       "      <th>id</th>\n",
       "      <th>f0</th>\n",
       "      <th>f1</th>\n",
       "      <th>f2</th>\n",
       "      <th>product</th>\n",
       "    </tr>\n",
       "  </thead>\n",
       "  <tbody>\n",
       "    <tr>\n",
       "      <th>0</th>\n",
       "      <td>txEyH</td>\n",
       "      <td>0.705745</td>\n",
       "      <td>-0.497823</td>\n",
       "      <td>1.221170</td>\n",
       "      <td>105.280062</td>\n",
       "    </tr>\n",
       "    <tr>\n",
       "      <th>1</th>\n",
       "      <td>2acmU</td>\n",
       "      <td>1.334711</td>\n",
       "      <td>-0.340164</td>\n",
       "      <td>4.365080</td>\n",
       "      <td>73.037750</td>\n",
       "    </tr>\n",
       "    <tr>\n",
       "      <th>2</th>\n",
       "      <td>409Wp</td>\n",
       "      <td>1.022732</td>\n",
       "      <td>0.151990</td>\n",
       "      <td>1.419926</td>\n",
       "      <td>85.265647</td>\n",
       "    </tr>\n",
       "    <tr>\n",
       "      <th>3</th>\n",
       "      <td>iJLyR</td>\n",
       "      <td>-0.032172</td>\n",
       "      <td>0.139033</td>\n",
       "      <td>2.978566</td>\n",
       "      <td>168.620776</td>\n",
       "    </tr>\n",
       "    <tr>\n",
       "      <th>4</th>\n",
       "      <td>Xdl7t</td>\n",
       "      <td>1.988431</td>\n",
       "      <td>0.155413</td>\n",
       "      <td>4.751769</td>\n",
       "      <td>154.036647</td>\n",
       "    </tr>\n",
       "  </tbody>\n",
       "</table>\n",
       "</div>"
      ],
      "text/plain": [
       "      id        f0        f1        f2     product\n",
       "0  txEyH  0.705745 -0.497823  1.221170  105.280062\n",
       "1  2acmU  1.334711 -0.340164  4.365080   73.037750\n",
       "2  409Wp  1.022732  0.151990  1.419926   85.265647\n",
       "3  iJLyR -0.032172  0.139033  2.978566  168.620776\n",
       "4  Xdl7t  1.988431  0.155413  4.751769  154.036647"
      ]
     },
     "execution_count": 5,
     "metadata": {},
     "output_type": "execute_result"
    }
   ],
   "source": [
    "df_region_set[0].head()"
   ]
  },
  {
   "cell_type": "code",
   "execution_count": 6,
   "id": "2095ba62-5a57-4c4b-9698-2720bfb33044",
   "metadata": {},
   "outputs": [
    {
     "data": {
      "text/html": [
       "<div>\n",
       "<style scoped>\n",
       "    .dataframe tbody tr th:only-of-type {\n",
       "        vertical-align: middle;\n",
       "    }\n",
       "\n",
       "    .dataframe tbody tr th {\n",
       "        vertical-align: top;\n",
       "    }\n",
       "\n",
       "    .dataframe thead th {\n",
       "        text-align: right;\n",
       "    }\n",
       "</style>\n",
       "<table border=\"1\" class=\"dataframe\">\n",
       "  <thead>\n",
       "    <tr style=\"text-align: right;\">\n",
       "      <th></th>\n",
       "      <th>id</th>\n",
       "      <th>f0</th>\n",
       "      <th>f1</th>\n",
       "      <th>f2</th>\n",
       "      <th>product</th>\n",
       "    </tr>\n",
       "  </thead>\n",
       "  <tbody>\n",
       "    <tr>\n",
       "      <th>0</th>\n",
       "      <td>kBEdx</td>\n",
       "      <td>-15.001348</td>\n",
       "      <td>-8.276000</td>\n",
       "      <td>-0.005876</td>\n",
       "      <td>3.179103</td>\n",
       "    </tr>\n",
       "    <tr>\n",
       "      <th>1</th>\n",
       "      <td>62mP7</td>\n",
       "      <td>14.272088</td>\n",
       "      <td>-3.475083</td>\n",
       "      <td>0.999183</td>\n",
       "      <td>26.953261</td>\n",
       "    </tr>\n",
       "    <tr>\n",
       "      <th>2</th>\n",
       "      <td>vyE1P</td>\n",
       "      <td>6.263187</td>\n",
       "      <td>-5.948386</td>\n",
       "      <td>5.001160</td>\n",
       "      <td>134.766305</td>\n",
       "    </tr>\n",
       "    <tr>\n",
       "      <th>3</th>\n",
       "      <td>KcrkZ</td>\n",
       "      <td>-13.081196</td>\n",
       "      <td>-11.506057</td>\n",
       "      <td>4.999415</td>\n",
       "      <td>137.945408</td>\n",
       "    </tr>\n",
       "    <tr>\n",
       "      <th>4</th>\n",
       "      <td>AHL4O</td>\n",
       "      <td>12.702195</td>\n",
       "      <td>-8.147433</td>\n",
       "      <td>5.004363</td>\n",
       "      <td>134.766305</td>\n",
       "    </tr>\n",
       "  </tbody>\n",
       "</table>\n",
       "</div>"
      ],
      "text/plain": [
       "      id         f0         f1        f2     product\n",
       "0  kBEdx -15.001348  -8.276000 -0.005876    3.179103\n",
       "1  62mP7  14.272088  -3.475083  0.999183   26.953261\n",
       "2  vyE1P   6.263187  -5.948386  5.001160  134.766305\n",
       "3  KcrkZ -13.081196 -11.506057  4.999415  137.945408\n",
       "4  AHL4O  12.702195  -8.147433  5.004363  134.766305"
      ]
     },
     "execution_count": 6,
     "metadata": {},
     "output_type": "execute_result"
    }
   ],
   "source": [
    "df_region_set[1].head()"
   ]
  },
  {
   "cell_type": "code",
   "execution_count": 7,
   "id": "2c03ba76-be60-41e1-8615-95b9122ec687",
   "metadata": {},
   "outputs": [
    {
     "data": {
      "text/html": [
       "<div>\n",
       "<style scoped>\n",
       "    .dataframe tbody tr th:only-of-type {\n",
       "        vertical-align: middle;\n",
       "    }\n",
       "\n",
       "    .dataframe tbody tr th {\n",
       "        vertical-align: top;\n",
       "    }\n",
       "\n",
       "    .dataframe thead th {\n",
       "        text-align: right;\n",
       "    }\n",
       "</style>\n",
       "<table border=\"1\" class=\"dataframe\">\n",
       "  <thead>\n",
       "    <tr style=\"text-align: right;\">\n",
       "      <th></th>\n",
       "      <th>id</th>\n",
       "      <th>f0</th>\n",
       "      <th>f1</th>\n",
       "      <th>f2</th>\n",
       "      <th>product</th>\n",
       "    </tr>\n",
       "  </thead>\n",
       "  <tbody>\n",
       "    <tr>\n",
       "      <th>0</th>\n",
       "      <td>fwXo0</td>\n",
       "      <td>-1.146987</td>\n",
       "      <td>0.963328</td>\n",
       "      <td>-0.828965</td>\n",
       "      <td>27.758673</td>\n",
       "    </tr>\n",
       "    <tr>\n",
       "      <th>1</th>\n",
       "      <td>WJtFt</td>\n",
       "      <td>0.262778</td>\n",
       "      <td>0.269839</td>\n",
       "      <td>-2.530187</td>\n",
       "      <td>56.069697</td>\n",
       "    </tr>\n",
       "    <tr>\n",
       "      <th>2</th>\n",
       "      <td>ovLUW</td>\n",
       "      <td>0.194587</td>\n",
       "      <td>0.289035</td>\n",
       "      <td>-5.586433</td>\n",
       "      <td>62.871910</td>\n",
       "    </tr>\n",
       "    <tr>\n",
       "      <th>3</th>\n",
       "      <td>q6cA6</td>\n",
       "      <td>2.236060</td>\n",
       "      <td>-0.553760</td>\n",
       "      <td>0.930038</td>\n",
       "      <td>114.572842</td>\n",
       "    </tr>\n",
       "    <tr>\n",
       "      <th>4</th>\n",
       "      <td>WPMUX</td>\n",
       "      <td>-0.515993</td>\n",
       "      <td>1.716266</td>\n",
       "      <td>5.899011</td>\n",
       "      <td>149.600746</td>\n",
       "    </tr>\n",
       "  </tbody>\n",
       "</table>\n",
       "</div>"
      ],
      "text/plain": [
       "      id        f0        f1        f2     product\n",
       "0  fwXo0 -1.146987  0.963328 -0.828965   27.758673\n",
       "1  WJtFt  0.262778  0.269839 -2.530187   56.069697\n",
       "2  ovLUW  0.194587  0.289035 -5.586433   62.871910\n",
       "3  q6cA6  2.236060 -0.553760  0.930038  114.572842\n",
       "4  WPMUX -0.515993  1.716266  5.899011  149.600746"
      ]
     },
     "execution_count": 7,
     "metadata": {},
     "output_type": "execute_result"
    }
   ],
   "source": [
    "df_region_set[2].head()"
   ]
  },
  {
   "cell_type": "code",
   "execution_count": 8,
   "id": "ece77324-ecc0-43cd-8b1b-e8e9d5317889",
   "metadata": {},
   "outputs": [
    {
     "name": "stdout",
     "output_type": "stream",
     "text": [
      "<class 'pandas.core.frame.DataFrame'>\n",
      "RangeIndex: 100000 entries, 0 to 99999\n",
      "Data columns (total 5 columns):\n",
      " #   Column   Non-Null Count   Dtype  \n",
      "---  ------   --------------   -----  \n",
      " 0   id       100000 non-null  object \n",
      " 1   f0       100000 non-null  float64\n",
      " 2   f1       100000 non-null  float64\n",
      " 3   f2       100000 non-null  float64\n",
      " 4   product  100000 non-null  float64\n",
      "dtypes: float64(4), object(1)\n",
      "memory usage: 3.8+ MB\n",
      "<class 'pandas.core.frame.DataFrame'>\n",
      "RangeIndex: 100000 entries, 0 to 99999\n",
      "Data columns (total 5 columns):\n",
      " #   Column   Non-Null Count   Dtype  \n",
      "---  ------   --------------   -----  \n",
      " 0   id       100000 non-null  object \n",
      " 1   f0       100000 non-null  float64\n",
      " 2   f1       100000 non-null  float64\n",
      " 3   f2       100000 non-null  float64\n",
      " 4   product  100000 non-null  float64\n",
      "dtypes: float64(4), object(1)\n",
      "memory usage: 3.8+ MB\n",
      "<class 'pandas.core.frame.DataFrame'>\n",
      "RangeIndex: 100000 entries, 0 to 99999\n",
      "Data columns (total 5 columns):\n",
      " #   Column   Non-Null Count   Dtype  \n",
      "---  ------   --------------   -----  \n",
      " 0   id       100000 non-null  object \n",
      " 1   f0       100000 non-null  float64\n",
      " 2   f1       100000 non-null  float64\n",
      " 3   f2       100000 non-null  float64\n",
      " 4   product  100000 non-null  float64\n",
      "dtypes: float64(4), object(1)\n",
      "memory usage: 3.8+ MB\n"
     ]
    }
   ],
   "source": [
    "for df in df_region_set: \n",
    "    df.info();"
   ]
  },
  {
   "cell_type": "markdown",
   "id": "e7543b49-00ba-4930-afae-90c0b365325d",
   "metadata": {},
   "source": [
    "### Комментарий по загрузке данных:\n",
    "- Во всех датасетах отсутствуют пропуски\n",
    "- Тип данных столбцов корректный\n",
    "- В названиях столбцов отсутствуют орфографические ошибки, регистр тоже правильный"
   ]
  },
  {
   "cell_type": "markdown",
   "id": "8955db42-5b0b-41e3-9c6b-55696c6df919",
   "metadata": {},
   "source": [
    "## 1.2 Предобработка данных"
   ]
  },
  {
   "cell_type": "markdown",
   "id": "a8f9d3c8-5d27-4e55-908a-8ece511d0038",
   "metadata": {},
   "source": [
    "- Проанализируем, есть ли в датасетах дубликаты"
   ]
  },
  {
   "cell_type": "code",
   "execution_count": 9,
   "id": "93a33eb9-9adb-4bfc-a352-927e5501765c",
   "metadata": {},
   "outputs": [
    {
     "name": "stdout",
     "output_type": "stream",
     "text": [
      "Количество дубликатов в датасете 1 составляет: 0\n",
      "Количество дубликатов в датасете 2 составляет: 0\n",
      "Количество дубликатов в датасете 3 составляет: 0\n"
     ]
    }
   ],
   "source": [
    "for i in range(3):\n",
    "    print(f\"Количество дубликатов в датасете {i + 1} составляет: {df_region_set[i].duplicated().sum()}\")"
   ]
  },
  {
   "cell_type": "markdown",
   "id": "85c03ada-cc5d-4cc2-82ab-725f2fa9f2f8",
   "metadata": {},
   "source": [
    "- Проводить дополнительные исследования в предобработке данных не имеет смысла, так как:\n",
    "    + В датасете отсутствуют пропуски\n",
    "    + Неявные дубликаты теряют свой смысл, потому как ошибки в написании имеющихся значений в столбцах исключены. Каждый из 5 столбцов является уникальным идентификационным номером или координатой, где неявная ошибка невозможна"
   ]
  },
  {
   "cell_type": "markdown",
   "id": "3733b98e-236f-4a8c-b33c-5be90002f39f",
   "metadata": {},
   "source": [
    "## 1.3 Исследовательский анализ данных"
   ]
  },
  {
   "cell_type": "markdown",
   "id": "5128f15c-de65-4570-af37-0c54afad64d8",
   "metadata": {},
   "source": [
    "- Посмотрим на распределение объёмов запасов нефти в скважине"
   ]
  },
  {
   "cell_type": "code",
   "execution_count": 10,
   "id": "585752c9-cf42-46a5-93f1-dd812095d0af",
   "metadata": {},
   "outputs": [],
   "source": [
    "# функция для построения гистограмм\n",
    "def hist_build(df, column, hist_color, xlabel, ylabel, title, i, j, quant_of_bins, more_than_one_row):\n",
    "    if more_than_one_row:\n",
    "        axes[i, j].set_title(title) \n",
    "        axes[i, j].hist(df[column], bins = quant_of_bins, color = hist_color)\n",
    "        axes[i, j].set_xlabel(xlabel)\n",
    "        axes[i, j].set_ylabel(ylabel)\n",
    "    else:\n",
    "        axes[j].set_title(title) \n",
    "        axes[j].hist(df[column], bins = quant_of_bins, color = hist_color)\n",
    "        axes[j].set_xlabel(xlabel)\n",
    "        axes[j].set_ylabel(ylabel)     "
   ]
  },
  {
   "cell_type": "code",
   "execution_count": 11,
   "id": "8804e730-aacb-45e2-a9fa-7af0f83ac1f6",
   "metadata": {},
   "outputs": [],
   "source": [
    "# Функция для построения ящиков с усами\n",
    "def boxplot_build(df, column, xlabel, title, i, j, left_lim, right_lim):\n",
    "    axes[i, j].boxplot(df[[column]], vert = False)\n",
    "    axes[i, j].set_title(title) \n",
    "    axes[i, j].set_xlabel(xlabel)\n",
    "    axes[i, j].set_xlim(left_lim, right_lim)"
   ]
  },
  {
   "cell_type": "code",
   "execution_count": 12,
   "id": "61ffceb1-88ab-47fa-bb14-6aefaedd752a",
   "metadata": {},
   "outputs": [
    {
     "data": {
      "image/png": "[encoded data removed]",
      "text/plain": [
       "<Figure size 1200x2000 with 6 Axes>"
      ]
     },
     "metadata": {},
     "output_type": "display_data"
    }
   ],
   "source": [
    "#num_columns = ['employment_years', 'supervisor_evaluation', 'salary', 'job_satisfaction_rate']\n",
    "param_quant_of_bins = [30, 10, 30]\n",
    "param_lim_left = [-100, -100, -100]\n",
    "param_lim_right = [400, 400, 400]\n",
    "region_names = ['регион 1', 'регион 2', 'регион 3',]\n",
    "\n",
    "fig, axes = plt.subplots(nrows = 3, ncols = 2, figsize = (12, 20))\n",
    "for i in range(3):\n",
    "    hist_build(df_region_set[i],\n",
    "               'product',\n",
    "               'green',\n",
    "               'Запасы, тыс. баррелей',\n",
    "               'Количество скважин',\n",
    "               'Распределение ' + 'product ' + region_names[i],\n",
    "               i,\n",
    "               0,\n",
    "               param_quant_of_bins[i],\n",
    "               True\n",
    "              )\n",
    "    \n",
    "    boxplot_build(df_region_set[i],\n",
    "                  'product',\n",
    "                  'Запасы, тыс. баррелей',\n",
    "                  'Диаграмма ящик с усами для ' + 'product ' + region_names[i],\n",
    "                  i,\n",
    "                  1,\n",
    "                  param_lim_left[i],\n",
    "                  param_lim_right[i]       \n",
    "                 )"
   ]
  },
  {
   "cell_type": "code",
   "execution_count": 13,
   "id": "6b136225-95b3-4e8f-8681-ad3a23b5d0a1",
   "metadata": {},
   "outputs": [
    {
     "name": "stdout",
     "output_type": "stream",
     "text": [
      "Описание запасов регион 1:\n",
      "count    100000.000000\n",
      "mean         92.500000\n",
      "std          44.288691\n",
      "min           0.000000\n",
      "25%          56.497507\n",
      "50%          91.849972\n",
      "75%         128.564089\n",
      "max         185.364347\n",
      "Name: product, dtype: float64\n",
      "\n",
      "\n",
      "Описание запасов регион 2:\n",
      "count    100000.000000\n",
      "mean         68.825000\n",
      "std          45.944423\n",
      "min           0.000000\n",
      "25%          26.953261\n",
      "50%          57.085625\n",
      "75%         107.813044\n",
      "max         137.945408\n",
      "Name: product, dtype: float64\n",
      "\n",
      "\n",
      "Описание запасов регион 3:\n",
      "count    100000.000000\n",
      "mean         95.000000\n",
      "std          44.749921\n",
      "min           0.000000\n",
      "25%          59.450441\n",
      "50%          94.925613\n",
      "75%         130.595027\n",
      "max         190.029838\n",
      "Name: product, dtype: float64\n",
      "\n",
      "\n"
     ]
    }
   ],
   "source": [
    "for i in range(3):\n",
    "    print(f\"Описание запасов {region_names[i]}:\")\n",
    "    print(df_region_set[i]['product'].describe())\n",
    "    print('\\n')"
   ]
  },
  {
   "cell_type": "markdown",
   "id": "c4f8ca3e-b8c6-4bc3-8067-dc87f572b4d3",
   "metadata": {},
   "source": [
    "- В регионах 1 и 3 распредление запасов нефти одинаковое и имеет вид нормального распредления\n",
    "- В регионе 2 распределение объёмов запасов нефти по скважинам специфическое. Больше всего скважин приходится на скважины с малыми запасами нефти или чрезвычайно большими относительно среднего уровня запасов\n",
    "- Описание запасов показало, что медианное значение запасов для регионов 1 и 3 является примерно одинаковым (91 и 94 тыс. баррелей соответственно). В то время как в регионе 2 этот показатель составляет 57 тыс. баррелей\n",
    "- Для других столбцов проводить исследовательский анализ данных не имеет смысла"
   ]
  },
  {
   "cell_type": "markdown",
   "id": "dadfc7be-6526-47d0-87e9-ec6de14a48e5",
   "metadata": {},
   "source": [
    "## 1.4 Корреляционный анализ данных"
   ]
  },
  {
   "cell_type": "markdown",
   "id": "2a6247df-fc91-4486-9de9-0d76cf468d74",
   "metadata": {},
   "source": [
    "- Построим матрицу корреляции, чтобы выяснить, какой из показателей оказывает наибольшее влияние на целевой признак(product)\n",
    "- Воспользуемся матрицей Спирмена, т.к. неизвестно, что обозначают признаки f0, f1, f2, а также отсутствует информация об их распределении\n",
    "- Матрицы построим сразу для трёх регионов, \n",
    "- Предварительно отбросим столбец `id`, чтобы он не вносил ошибок при расчёте коэффициента корреляции"
   ]
  },
  {
   "cell_type": "code",
   "execution_count": 14,
   "id": "2ac09016-bebf-4820-b95b-13c662c8b0b4",
   "metadata": {},
   "outputs": [
    {
     "name": "stdout",
     "output_type": "stream",
     "text": [
      "         f0        f1        f2     product\n",
      "0  0.705745 -0.497823  1.221170  105.280062\n",
      "1  1.334711 -0.340164  4.365080   73.037750\n",
      "2  1.022732  0.151990  1.419926   85.265647\n",
      "3 -0.032172  0.139033  2.978566  168.620776\n",
      "4  1.988431  0.155413  4.751769  154.036647\n",
      "          f0         f1        f2     product\n",
      "0 -15.001348  -8.276000 -0.005876    3.179103\n",
      "1  14.272088  -3.475083  0.999183   26.953261\n",
      "2   6.263187  -5.948386  5.001160  134.766305\n",
      "3 -13.081196 -11.506057  4.999415  137.945408\n",
      "4  12.702195  -8.147433  5.004363  134.766305\n",
      "         f0        f1        f2     product\n",
      "0 -1.146987  0.963328 -0.828965   27.758673\n",
      "1  0.262778  0.269839 -2.530187   56.069697\n",
      "2  0.194587  0.289035 -5.586433   62.871910\n",
      "3  2.236060 -0.553760  0.930038  114.572842\n",
      "4 -0.515993  1.716266  5.899011  149.600746\n"
     ]
    }
   ],
   "source": [
    "for i in range(3):\n",
    "    df = df_region_set[i].drop('id', axis = 1)\n",
    "    print(df.head())"
   ]
  },
  {
   "cell_type": "code",
   "execution_count": 15,
   "id": "35ffbd88-1269-4871-ace7-528f566d0ff9",
   "metadata": {},
   "outputs": [
    {
     "data": {
      "image/png": "[encoded data removed]",
      "text/plain": [
       "<Figure size 800x550 with 2 Axes>"
      ]
     },
     "metadata": {},
     "output_type": "display_data"
    },
    {
     "data": {
      "image/png": "[encoded data removed]",
      "text/plain": [
       "<Figure size 800x550 with 2 Axes>"
      ]
     },
     "metadata": {},
     "output_type": "display_data"
    },
    {
     "data": {
      "image/png": "[encoded data removed]",
      "text/plain": [
       "<Figure size 800x550 with 2 Axes>"
      ]
     },
     "metadata": {},
     "output_type": "display_data"
    }
   ],
   "source": [
    "#fig, axes = plt.subplots(ncols = 1, nrows = 3, figsize = (12, 21));\n",
    "for i in range(3):\n",
    "    df = df_region_set[i].drop('id', axis = 1)\n",
    "    plt.show()\n",
    "    ax = sns.heatmap(df.corr(method = \"spearman\"), annot = True, fmt = \".2f\");\n",
    "    ax.set(xlabel = region_names[i])"
   ]
  },
  {
   "cell_type": "markdown",
   "id": "de176459-ae3e-411d-badd-89654b03cfc9",
   "metadata": {},
   "source": [
    "- Для региона 1 наибольшее влияние на целевой признак оказывает `f2`(0.49)\n",
    "- У региона 2 очень высокая корреляция признака `f1` с целевым признаком `product`(0.98)\n",
    "- Для региона 3 ситуация похожая на случай с регионом 1. Корреляция признака `f2` с целевым признаком составляет 0.45"
   ]
  },
  {
   "cell_type": "markdown",
   "id": "2dff678f-de90-4c89-8402-469c3e70d446",
   "metadata": {},
   "source": [
    "### Выводы по загрузке и обработке данных:\n",
    "- В датасетах не было обнаружено ошибок в написании названий столбцов, структуре и типах данных столбцов\n",
    "- Распределение целевого признака для каждого из регионов соответствует здравому смыслу. Для регионов 1 и 3 распределения качественно имеют одинаковый вид, в то время как для региона 2 оно отличное.\n",
    "- Средние значения целевого признака у регионов 1 и 3 также имеют практически одинаковые значения, как и влияние входных признаков на целевой имеет схожий характер. У региона 2 ситуация специфическая, её можно наблюдать на матрице корреляции, а также при описании целевого признака"
   ]
  },
  {
   "cell_type": "markdown",
   "id": "e379c969-b6a4-411c-8654-966416b994ff",
   "metadata": {},
   "source": [
    "# Шаг 2. Обучение и проверка модели для каждого из регионов"
   ]
  },
  {
   "cell_type": "markdown",
   "id": "e7cf0a68-31dd-43ee-9f90-81cf244c6175",
   "metadata": {},
   "source": [
    "- Целевой признак является количественным, поэтому потенциально можно использовать в качестве моделей линейную регрессию и дерево решений\n",
    "- Входных признаков не так уж много, более того они все являются количественными, поэтому использование дерева решений вряд ли даст хорошие результаты\n",
    "- Также необходимо заметить, что у входных признаков для каждого из регионов присутствует хотя бы 1 признак, которые обладает существенным значением корреляции с целевым признаком\n",
    "- Поэтому целесообразно применить модель линейной регрессии(как и рекомендуется в условии задачи)"
   ]
  },
  {
   "cell_type": "markdown",
   "id": "d58083fb-be96-4c85-b602-9942bd7aa5ab",
   "metadata": {},
   "source": [
    "## 2.1 Разбиение данных"
   ]
  },
  {
   "cell_type": "markdown",
   "id": "5192af63-0a81-4294-81d6-0bc1c3d7cccf",
   "metadata": {},
   "source": [
    "- Разбиение данных проведём на обучающую и валидационную выборку в соотношении 75:25"
   ]
  },
  {
   "cell_type": "code",
   "execution_count": 16,
   "id": "8845b303-3167-4fe3-b752-c712332952ab",
   "metadata": {},
   "outputs": [],
   "source": [
    "input_cols = ['f0', 'f1', 'f2']\n",
    "target = ['product']\n",
    "RANDOM_STATE = 77"
   ]
  },
  {
   "cell_type": "code",
   "execution_count": 17,
   "id": "b853f8b8-62f0-41a7-a4ab-7dd8a26983ef",
   "metadata": {},
   "outputs": [],
   "source": [
    "X = [[],[],[]]\n",
    "y = [[],[],[]]\n",
    "X_train = [[],[],[]]\n",
    "X_valid = [[],[],[]]\n",
    "y_train = [[],[],[]]\n",
    "y_valid = [[],[],[]]\n",
    "predictions = [[],[],[]]"
   ]
  },
  {
   "cell_type": "code",
   "execution_count": 18,
   "id": "0664aa98-ff29-49a2-a6b4-7de7ab253ee3",
   "metadata": {},
   "outputs": [],
   "source": [
    "def split_input_and_target(df, input_cols, target):\n",
    "    return(df[input_cols], df[target])"
   ]
  },
  {
   "cell_type": "code",
   "execution_count": 19,
   "id": "bc5dbca3-7f0d-4cc3-a1a1-72f48bce6e7d",
   "metadata": {},
   "outputs": [],
   "source": [
    "for i in range(3):\n",
    "    X[i], y[i] = split_input_and_target(df_region_set[i], input_cols, target)\n",
    "    X_train[i], X_valid[i], y_train[i], y_valid[i] = train_test_split(X[i],y[i], test_size = 0.25, random_state = RANDOM_STATE )        "
   ]
  },
  {
   "cell_type": "markdown",
   "id": "18a7eb26-7633-4c9c-b789-76b8118dd3a4",
   "metadata": {},
   "source": [
    "## 2.2 - 2.5 Обучение модели и анализ результатов"
   ]
  },
  {
   "cell_type": "markdown",
   "id": "bf219035-a507-4745-891c-1f18bb3981de",
   "metadata": {},
   "source": [
    "- Обучим модель для каждого региона и сделаем предсказания на валидационной выборке"
   ]
  },
  {
   "cell_type": "code",
   "execution_count": 20,
   "id": "49f4d6d3-4ace-4c94-b013-6a5f997b6fe2",
   "metadata": {},
   "outputs": [],
   "source": [
    "#Создание переменных, отвечающих за хранение отмасштабированных данных, скейлеров и самих моделей \n",
    "X = [[],[],[]]\n",
    "y = [[],[],[]]\n",
    "X_train_scaled = [[],[],[]]\n",
    "X_valid_scaled = [[],[],[]]\n",
    "scaler = [[],[],[]]\n",
    "model_lr = [[],[],[]]"
   ]
  },
  {
   "cell_type": "code",
   "execution_count": 21,
   "id": "01440ec2-71d1-42bb-90a1-c4857ad54d45",
   "metadata": {},
   "outputs": [
    {
     "name": "stdout",
     "output_type": "stream",
     "text": [
      "Значение метрики RMSE - регион 1 : 37.772\n",
      "Среднее значение запасов сырья фактически : 92.525 тыс. баррелей\n",
      "Среднее значение предсказанных запасов сырья : 92.608 тыс. баррелей\n",
      "Значение метрики RMSE - регион 2 : 0.889\n",
      "Среднее значение запасов сырья фактически : 69.121 тыс. баррелей\n",
      "Среднее значение предсказанных запасов сырья : 69.119 тыс. баррелей\n",
      "Значение метрики RMSE - регион 3 : 39.931\n",
      "Среднее значение запасов сырья фактически : 94.874 тыс. баррелей\n",
      "Среднее значение предсказанных запасов сырья : 95.009 тыс. баррелей\n"
     ]
    }
   ],
   "source": [
    "for i in range(3):\n",
    "# Подготовка признаков - масштабирование и кодирование\n",
    "    scaler[i] = StandardScaler()\n",
    "    X_train_scaled[i] = scaler[i].fit_transform(X_train[i])\n",
    "    X_valid_scaled[i] = scaler[i].transform(X_valid[i])\n",
    "\n",
    "    X_train_scaled[i] = pd.DataFrame(X_train_scaled[i], columns = input_cols)\n",
    "    X_valid_scaled[i] = pd.DataFrame(X_valid_scaled[i], columns = input_cols)\n",
    "# Обучение моделей\n",
    "    model_lr[i] = LinearRegression()\n",
    "    model_lr[i].fit(X_train_scaled[i], y_train[i])\n",
    "    predictions[i] = model_lr[i].predict(X_valid_scaled[i])\n",
    "# Результаты работы моделей:\n",
    "    print(f'Значение метрики RMSE - {region_names[i]} : {root_mean_squared_error(y_valid[i], predictions[i]).round(3)}')\n",
    "    print(f'Среднее значение запасов сырья фактически : {np.mean(y_valid[i]).round(3)} тыс. баррелей')\n",
    "    print(f'Среднее значение предсказанных запасов сырья : {np.mean(predictions[i]).round(3)} тыс. баррелей')"
   ]
  },
  {
   "cell_type": "markdown",
   "id": "e3f51e36-21e5-45a5-92b8-3e8b57f5fc6c",
   "metadata": {},
   "source": [
    "- Добавим предсказания в валидационную выборку, а также объединим входные и целевой признаки валидационной выборки"
   ]
  },
  {
   "cell_type": "code",
   "execution_count": 22,
   "id": "694bd341-7d00-4b57-9fc1-345f91011e86",
   "metadata": {},
   "outputs": [],
   "source": [
    "df_valid = [[], [], []]"
   ]
  },
  {
   "cell_type": "code",
   "execution_count": 23,
   "id": "acabaa42-9e7e-4af0-9186-ece381f5c4d2",
   "metadata": {},
   "outputs": [
    {
     "name": "stdout",
     "output_type": "stream",
     "text": [
      "             f0        f1        f2     product  predictions\n",
      "47770 -0.263714  0.761007  1.527840   78.457075    75.950843\n",
      "60076  1.895585  0.138823  2.169471   81.490366    97.225399\n",
      "48414  0.864023 -0.371282  6.439782  155.905578   128.650402\n",
      "23216  1.053974 -0.552166  3.258744  140.785031   110.968969\n",
      "57805  0.756235 -0.378856  4.360853  177.124963   114.644157\n",
      "             f0        f1        f2     product  predictions\n",
      "47770 -1.470958 -0.088960  3.004893   84.038886    82.857921\n",
      "60076 -8.083431 -0.774358  5.002803  137.945408   137.679388\n",
      "48414 -8.208432  0.604173  2.995995   84.038886    83.580572\n",
      "23216  2.221330 -8.969547  0.992218   26.953261    28.266370\n",
      "57805  5.340852 -2.424928  0.997568   26.953261    27.818314\n",
      "             f0        f1        f2     product  predictions\n",
      "47770  1.428705  1.365357  3.658585   73.113916   101.643034\n",
      "60076 -0.346625  1.735493  4.872970  151.916189   108.601880\n",
      "48414 -1.010814 -0.006276 -0.702840   95.816284    76.750084\n",
      "23216  0.343575  0.197885  3.919734  146.567979   103.175384\n",
      "57805 -1.668374  0.874110 -1.651739   13.562824    71.309158\n"
     ]
    }
   ],
   "source": [
    "for i in range(3):\n",
    "    df_valid[i] = X_valid[i].join(y_valid[i])\n",
    "    df_valid[i]['predictions'] = predictions[i]\n",
    "    print(df_valid[i].head())"
   ]
  },
  {
   "cell_type": "markdown",
   "id": "b5f77534-22aa-460d-af87-699b52be248b",
   "metadata": {},
   "source": [
    "- По результатам работы модели видно, что достаточно точные предсказания получены для региона 2\n",
    "- Для регионов 1 и 3 предсказания существенно хуже из - за отсутствия сильно коррелирующих входных признаков с целевым"
   ]
  },
  {
   "cell_type": "markdown",
   "id": "1cd0216b-ee08-45ad-ab2e-d74d5d781d71",
   "metadata": {},
   "source": [
    "# Шаг 3. Расчёт прибыли"
   ]
  },
  {
   "cell_type": "markdown",
   "id": "d62f10ea-b383-4f89-a885-aec021c51e9b",
   "metadata": {},
   "source": [
    "## 3.1 Инициализация ключевых переменных"
   ]
  },
  {
   "cell_type": "code",
   "execution_count": 24,
   "id": "6918e7d6-88cd-4c7f-88a8-47fc3819f852",
   "metadata": {},
   "outputs": [],
   "source": [
    "BUDGET = 10 ** 10 # рублей - затраты\n",
    "PRICE_THSND_BARR = 4.5 * (10 ** 5) # стоимость 1 тыс. барр. в рублях\n",
    "K = 200 # число скважин"
   ]
  },
  {
   "cell_type": "markdown",
   "id": "09d22407-e171-45c8-ab38-2126062b2e84",
   "metadata": {},
   "source": [
    "## 3.2 Расчёт достаточного объёма сырья для безубыточной разработки"
   ]
  },
  {
   "cell_type": "markdown",
   "id": "e9906c02-d4b6-41c2-b381-26a904122fc4",
   "metadata": {},
   "source": [
    "- Идея состоит в том, что должно выполняться условие:\n",
    "    $ прибыль - затраты = 0 $\n",
    "- При этом прибыль рассчитывается, как:\n",
    "    $прибыль = стоимость.тыс.барр * число.тыс.барр * число.скважин$\n",
    "- Выразим нужное число тыс.баррелей:\n",
    "    $число.тыс.барр = затраты / (стоимость.тыс.барр * число.скважин)$"
   ]
  },
  {
   "cell_type": "code",
   "execution_count": 25,
   "id": "ca8a3346-3c32-42be-bd39-8eda6979ae44",
   "metadata": {},
   "outputs": [
    {
     "name": "stdout",
     "output_type": "stream",
     "text": [
      "Для безубыточной разработки требуется минимум 111.111 тыс. баррелей для одной скважины\n"
     ]
    }
   ],
   "source": [
    "quant_barr = BUDGET / (PRICE_THSND_BARR * K)\n",
    "print(f\"Для безубыточной разработки требуется минимум {round(quant_barr,3)} тыс. баррелей для одной скважины\")"
   ]
  },
  {
   "cell_type": "markdown",
   "id": "00854a7f-7eb9-46a8-a356-3c262501e4fc",
   "metadata": {},
   "source": [
    "- Сравнивая минимальное значение запасов сырья в одной скважине для безубыточной разработки со средними значениями в регионах, можно заключить:\n",
    "    + Наиболее перспективными регионами являются 1 и 3, так как там средний показатель запасов сырья в скважинах достаточно близок(92 и 94 тыс. баррелей) к необходимому (111 тыс. баррелей)\n",
    "    + При этом в регионе 2 средний показатель намного меньше и составляет 69 тыс. баррелей, что более, чем в 1.5 раза меньше требуемого значения\n",
    "    + Таким образом, для разработки скважин целесообразно рассматривать регионы 1 и 3"
   ]
  },
  {
   "cell_type": "markdown",
   "id": "dd7c3344-232e-4613-91d0-cc54f14f67a7",
   "metadata": {},
   "source": [
    "## 3.3 Выводы по этапу подготовки расчёта прибыли"
   ]
  },
  {
   "cell_type": "markdown",
   "id": "3521e004-eacd-4697-825c-396e83f80e61",
   "metadata": {},
   "source": [
    "- Исходя из затрат в виде 10 млрд. рублей на 200 скважин при стоимости 450 тыс. рублей 1 тыс. баррелей было получено, что для безубыточной разработки необходимо, чтобы каждая скважина давала около 111 тыс. баррелей сырья\n",
    "- Наиболее подходящими под этот критерий являются регионы 1 и 3, регион 2 обладает слишком низким средним уровнем сырья в скважинах. Следовательно, вероятность отыскать скважины с нужным количеством нефти в регионах 1 и 3 выше, чем в регионе 2."
   ]
  },
  {
   "cell_type": "markdown",
   "id": "0c8982d3-a5da-465f-9f93-1729ca37a45a",
   "metadata": {},
   "source": [
    "# Шаг 4. Функция для расчёта прибыли"
   ]
  },
  {
   "cell_type": "markdown",
   "id": "7162a9ae-3e88-4318-914b-72852f310c8a",
   "metadata": {},
   "source": [
    "- Функция будет получать на вход информацию о случайных 500 скважинах\n",
    "- Необходимо выбрать 200 лучших скважин по предсказанному количеству сырья, а затем посчитать для них прибыль по реальным запасам нефти"
   ]
  },
  {
   "cell_type": "code",
   "execution_count": 26,
   "id": "75e54b3d-d27b-4ef5-9bfe-430809f5684f",
   "metadata": {},
   "outputs": [],
   "source": [
    "def profit(df):\n",
    "    # Сортировка предсказанных значений сырья от большего к меньшему \n",
    "    df_ord = df.sort_values(by = 'predictions', ascending = False)\n",
    "    #Выборка из 200 лучших скважин\n",
    "    df_ord_top_200 = df_ord.head(K)\n",
    "    #Суммирование запасов лучших 200 скважин\n",
    "    general_oil_reserves = df_ord_top_200['product'].sum()\n",
    "    #Расчёт прибыли\n",
    "    profit = general_oil_reserves * PRICE_THSND_BARR - BUDGET\n",
    "    \n",
    "    return profit"
   ]
  },
  {
   "cell_type": "markdown",
   "id": "ee610f8a-3dde-41b4-82cb-da7faee5d254",
   "metadata": {},
   "source": [
    "- Требуемая функция реализована"
   ]
  },
  {
   "cell_type": "markdown",
   "id": "fa93d3af-4270-42ac-8ce2-2573f9ffd5f1",
   "metadata": {},
   "source": [
    "# Шаг 5. Риски и прибыль для каждого региона"
   ]
  },
  {
   "cell_type": "markdown",
   "id": "ac3d908d-065d-4477-aa02-9f750e0b12f3",
   "metadata": {},
   "source": [
    "## 5.1 Техника Bootstrap"
   ]
  },
  {
   "cell_type": "markdown",
   "id": "2d24050d-70cb-47d1-923d-7810d0257a3e",
   "metadata": {},
   "source": [
    "- Создадим 1000 выборок, используя технику bootstrap"
   ]
  },
  {
   "cell_type": "code",
   "execution_count": 27,
   "id": "2bdf3148-8e1c-45a1-9df3-aa017c9ae5f8",
   "metadata": {},
   "outputs": [],
   "source": [
    "def bootstrap_function(df):\n",
    "    state = np.random.RandomState(777)\n",
    "    values = []    \n",
    "    for i in range(1000):\n",
    "        subsample = df.sample(frac = 500/len(df['predictions']), replace = True, random_state = state)\n",
    "        values.append(profit(subsample))\n",
    "    return values"
   ]
  },
  {
   "cell_type": "markdown",
   "id": "bea31779-4720-4b21-82ed-a695a265df3f",
   "metadata": {},
   "source": [
    "## 5.2 Средняя прибыль и 95%-й доверительный интервал"
   ]
  },
  {
   "cell_type": "markdown",
   "id": "e74e0c44-46e0-4c34-864c-6be2d0d28b43",
   "metadata": {},
   "source": [
    "- Поиск средней прибыли и 95%-го доверительного интервала для каждого из трёх регионов после использования техники bootstrap"
   ]
  },
  {
   "cell_type": "code",
   "execution_count": 28,
   "id": "2cf309ca-df46-4ef6-a022-3000f7f07663",
   "metadata": {},
   "outputs": [
    {
     "name": "stdout",
     "output_type": "stream",
     "text": [
      "Регион 1:\n",
      "Средняя прибыль в регионе: 0.438 млрд. рублей\n",
      "95%-й доверительный интервал прибыли составляет промежуток от -0.0471 до 0.9165 млрд. рублей\n",
      "Риск убытков равен 3.6 %\n",
      "Регион 2:\n",
      "Средняя прибыль в регионе: 0.5032 млрд. рублей\n",
      "95%-й доверительный интервал прибыли составляет промежуток от 0.1206 до 0.9138 млрд. рублей\n",
      "Риск убытков равен 0.4 %\n",
      "Регион 3:\n",
      "Средняя прибыль в регионе: 0.3682 млрд. рублей\n",
      "95%-й доверительный интервал прибыли составляет промежуток от -0.2026 до 0.9088 млрд. рублей\n",
      "Риск убытков равен 9.2 %\n"
     ]
    }
   ],
   "source": [
    "data = [[], [], []]\n",
    "for i in range(3):\n",
    "    data[i] = bootstrap_function(df_valid[i])\n",
    "    data[i] = pd.Series(data[i])\n",
    "    print(f\"Регион {i + 1}:\")\n",
    "    print(f\"Средняя прибыль в регионе: {((data[i].mean()) / (10 ** 9)).round(4)} млрд. рублей\")\n",
    "    (\n",
    "    print(\"95%-й доверительный интервал прибыли составляет промежуток от\",\n",
    "    ((data[i].quantile(0.025))/(10 ** 9)).round(4), \"до\", ((data[i].quantile(0.975))/(10 ** 9)).round(4), \"млрд. рублей\")\n",
    "    )\n",
    "    print('Риск убытков равен',round((data[i] < 0).mean() * 100, 2), '%')"
   ]
  },
  {
   "cell_type": "markdown",
   "id": "8b69e96a-bb33-406e-9b5b-61b09a087352",
   "metadata": {},
   "source": [
    "## 5.3 Выводы"
   ]
  },
  {
   "cell_type": "markdown",
   "id": "735ee58b-ce1d-448e-b930-b63c83f8ce88",
   "metadata": {},
   "source": [
    "- Несмотря на то что каждый этап проекта указывал на то, что оптимальными регионами для выбора разработки скважин являются 1 и 3, моделирование техникой bootstrap показало иную ситуацию\n",
    "- Средняя прибыль у региона 2 оказалась выше(0.5 млрд.), чем у регионов 1(0.44 млрд.) и 3(0.37 млрд.)\n",
    "- В 95% - ом доверительном интервале полностью положительная прибыль только у региона 2, в то время как у регионов 1 и 3 нижняя граница прибыли является отрицательной\n",
    "- Также в регионах 1 и 3 риски убыточности разработки скважин кратно выше (3.6% и 9.2% соответственно), а в регионе 2 всего лишь 0.4%\n",
    "- Таким образом, резюмируя проведённое исследование и вышеуказанные характеристики, целесообразно проводить разработку скважин в регионе 2."
   ]
  }
 ],
 "metadata": {
  "kernelspec": {
   "display_name": "Python 3 (ipykernel)",
   "language": "python",
   "name": "python3"
  },
  "language_info": {
   "codemirror_mode": {
    "name": "ipython",
    "version": 3
   },
   "file_extension": ".py",
   "mimetype": "text/x-python",
   "name": "python",
   "nbconvert_exporter": "python",
   "pygments_lexer": "ipython3",
   "version": "3.11.4"
  },
  "toc": {
   "base_numbering": 1,
   "nav_menu": {},
   "number_sections": true,
   "sideBar": true,
   "skip_h1_title": true,
   "title_cell": "Table of Contents",
   "title_sidebar": "Contents",
   "toc_cell": false,
   "toc_position": {},
   "toc_section_display": true,
   "toc_window_display": false
  }
 },
 "nbformat": 4,
 "nbformat_minor": 5
}
